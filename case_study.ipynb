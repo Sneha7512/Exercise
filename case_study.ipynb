{
 "cells": [
  {
   "cell_type": "code",
   "execution_count": 1,
   "metadata": {
    "id": "OehWWelFFeJJ"
   },
   "outputs": [],
   "source": [
    "import pandas as pd\n",
    "import csv\n",
    "import matplotlib.pyplot as plt\n",
    "%matplotlib inline"
   ]
  },
  {
   "cell_type": "code",
   "execution_count": 2,
   "metadata": {
    "colab": {
     "base_uri": "https://localhost:8080/"
    },
    "id": "tJqVaw9XFgS3",
    "outputId": "5dc61014-3867-4ce3-c06e-2a14905bef98"
   },
   "outputs": [
    {
     "name": "stdout",
     "output_type": "stream",
     "text": [
      "        Unnamed: 0         customer_email  net_revenue  year\n",
      "0                0   nhknapwsbx@gmail.com       249.92  2015\n",
      "1                1   joiuzbvcpn@gmail.com        87.61  2015\n",
      "2                2   ukkjctepxt@gmail.com       168.38  2015\n",
      "3                3   gykatilzrt@gmail.com        62.40  2015\n",
      "4                4   mmsgsrtxah@gmail.com        43.08  2015\n",
      "...            ...                    ...          ...   ...\n",
      "685922      685922   qzqttwiftu@gmail.com       184.58  2017\n",
      "685923      685923   pjodiifjop@gmail.com       133.03  2017\n",
      "685924      685924   appaplmgko@gmail.com       200.98  2017\n",
      "685925      685925   wvkpmwsgck@gmail.com       235.35  2017\n",
      "685926      685926   aregboumbw@gmail.com       208.43  2017\n",
      "\n",
      "[685927 rows x 4 columns]\n"
     ]
    }
   ],
   "source": [
    "df = pd.read_csv('casestudy.csv')\n",
    "print(df)"
   ]
  },
  {
   "cell_type": "code",
   "execution_count": 3,
   "metadata": {
    "id": "MPY4GYLsGLbY"
   },
   "outputs": [],
   "source": [
    "df_1 = df.loc[df['year'] == 2015]\n",
    "df_2 = df.loc[df['year'] == 2016]\n",
    "df_3 = df.loc[df['year'] == 2017]"
   ]
  },
  {
   "cell_type": "code",
   "execution_count": 4,
   "metadata": {
    "colab": {
     "base_uri": "https://localhost:8080/"
    },
    "id": "K1hjz3NpI5Vd",
    "outputId": "071f2fe1-f980-4350-f58d-ee4e20984f8c"
   },
   "outputs": [
    {
     "name": "stdout",
     "output_type": "stream",
     "text": [
      "        Unnamed: 0         customer_email  net_revenue  year\n",
      "0                0   nhknapwsbx@gmail.com       249.92  2015\n",
      "1                1   joiuzbvcpn@gmail.com        87.61  2015\n",
      "2                2   ukkjctepxt@gmail.com       168.38  2015\n",
      "3                3   gykatilzrt@gmail.com        62.40  2015\n",
      "4                4   mmsgsrtxah@gmail.com        43.08  2015\n",
      "...            ...                    ...          ...   ...\n",
      "231289      231289   xtrpmgjbwp@gmail.com       216.89  2015\n",
      "231290      231290   peeorxpsbr@gmail.com        39.16  2015\n",
      "231291      231291   vanasezjpw@gmail.com       233.46  2015\n",
      "231292      231292   dnpremlztb@gmail.com       136.27  2015\n",
      "231293      231293   qsgswrpycl@gmail.com        60.24  2015\n",
      "\n",
      "[231294 rows x 4 columns]\n"
     ]
    }
   ],
   "source": [
    "print(df_1)"
   ]
  },
  {
   "cell_type": "code",
   "execution_count": 5,
   "metadata": {
    "colab": {
     "base_uri": "https://localhost:8080/"
    },
    "id": "uM15jeMKONM8",
    "outputId": "6ae23ff5-3e0d-4d1f-fafb-0c256debeb84"
   },
   "outputs": [
    {
     "name": "stdout",
     "output_type": "stream",
     "text": [
      "29036749.189999994\n",
      "25730943.59\n",
      "31417495.030000016\n"
     ]
    }
   ],
   "source": [
    "revenue_2015 = df_1['net_revenue'].sum(axis=0)\n",
    "revenue_2016 = df_2['net_revenue'].sum(axis=0)\n",
    "revenue_2017 = df_3['net_revenue'].sum(axis=0)\n",
    "print(revenue_2015)\n",
    "print(revenue_2016)\n",
    "print(revenue_2017)\n"
   ]
  },
  {
   "cell_type": "code",
   "execution_count": 6,
   "metadata": {
    "colab": {
     "base_uri": "https://localhost:8080/"
    },
    "id": "bVnuf06WQ-9u",
    "outputId": "5dc7dba7-a346-4ae9-b1cd-93a5fd39db62"
   },
   "outputs": [
    {
     "name": "stdout",
     "output_type": "stream",
     "text": [
      "       Unnamed: 0_x         customer_email  net_revenue_x  year_x  \\\n",
      "0            231302   baiikostmd@gmail.com         142.57    2016   \n",
      "1            231303   lfeafnigbu@gmail.com          35.06    2016   \n",
      "2            231309   tqxsjlgjpi@gmail.com          33.50    2016   \n",
      "3            231310   hxshgpdxtr@gmail.com         217.35    2016   \n",
      "4            231318   zvhsssvgor@gmail.com          43.84    2016   \n",
      "...             ...                    ...            ...     ...   \n",
      "59579        435925   tpdtoiokyt@gmail.com           5.60    2016   \n",
      "59580        435927   yeserbsmyf@gmail.com          83.72    2016   \n",
      "59581        435930   nyunstvnpc@gmail.com          18.56    2016   \n",
      "59582        435935   mezrjfkced@gmail.com         114.17    2016   \n",
      "59583        435939   kxqglfdktu@gmail.com          37.31    2016   \n",
      "\n",
      "       Unnamed: 0_y  net_revenue_y  year_y  \n",
      "0                 8         170.70    2015  \n",
      "1                 9          54.99    2015  \n",
      "2                15         107.71    2015  \n",
      "3                16         180.59    2015  \n",
      "4                24          21.55    2015  \n",
      "...             ...            ...     ...  \n",
      "59579        204631          82.88    2015  \n",
      "59580        204633          46.60    2015  \n",
      "59581        204636          24.97    2015  \n",
      "59582        204641         118.19    2015  \n",
      "59583        204645          73.32    2015  \n",
      "\n",
      "[59584 rows x 7 columns]\n"
     ]
    }
   ],
   "source": [
    "year_df1_df2_common = pd.merge(df_2, df_1, on=['customer_email'], how='inner')\n",
    "year_df2_df3_common = pd.merge(df_3, df_2, on=['customer_email'], how='inner')\n",
    "print(year_df1_df2_common)"
   ]
  },
  {
   "cell_type": "code",
   "execution_count": 7,
   "metadata": {
    "colab": {
     "base_uri": "https://localhost:8080/"
    },
    "id": "W-2BE4o0Tc1f",
    "outputId": "e5614d5c-fcc2-43b0-b4a5-b45995ceda2a"
   },
   "outputs": [
    {
     "name": "stdout",
     "output_type": "stream",
     "text": [
      "       Unnamed: 0_x         customer_email  net_revenue_x  year_x  \\\n",
      "0            231302   baiikostmd@gmail.com         142.57    2016   \n",
      "1            231303   lfeafnigbu@gmail.com          35.06    2016   \n",
      "2            231309   tqxsjlgjpi@gmail.com          33.50    2016   \n",
      "3            231310   hxshgpdxtr@gmail.com         217.35    2016   \n",
      "4            231318   zvhsssvgor@gmail.com          43.84    2016   \n",
      "...             ...                    ...            ...     ...   \n",
      "59579        435925   tpdtoiokyt@gmail.com           5.60    2016   \n",
      "59580        435927   yeserbsmyf@gmail.com          83.72    2016   \n",
      "59581        435930   nyunstvnpc@gmail.com          18.56    2016   \n",
      "59582        435935   mezrjfkced@gmail.com         114.17    2016   \n",
      "59583        435939   kxqglfdktu@gmail.com          37.31    2016   \n",
      "\n",
      "       Unnamed: 0_y  net_revenue_y  year_y  net_revenue_x - net_revenue_y  \n",
      "0                 8         170.70    2015                         -28.13  \n",
      "1                 9          54.99    2015                         -19.93  \n",
      "2                15         107.71    2015                         -74.21  \n",
      "3                16         180.59    2015                          36.76  \n",
      "4                24          21.55    2015                          22.29  \n",
      "...             ...            ...     ...                            ...  \n",
      "59579        204631          82.88    2015                         -77.28  \n",
      "59580        204633          46.60    2015                          37.12  \n",
      "59581        204636          24.97    2015                          -6.41  \n",
      "59582        204641         118.19    2015                          -4.02  \n",
      "59583        204645          73.32    2015                         -36.01  \n",
      "\n",
      "[59584 rows x 8 columns]\n"
     ]
    }
   ],
   "source": [
    "def x(net_revenue_x,net_revenue_y):\n",
    "    return net_revenue_x - net_revenue_y\n",
    "\n",
    "year_df1_df2_common['net_revenue_x - net_revenue_y'] = year_df1_df2_common.apply(lambda f: x(f['net_revenue_x'],f['net_revenue_y']), axis=1)\n",
    "year_df2_df3_common['net_revenue_x - net_revenue_y'] = year_df2_df3_common.apply(lambda f: x(f['net_revenue_x'],f['net_revenue_y']), axis=1)\n",
    "\n",
    "print(year_df1_df2_common)"
   ]
  },
  {
   "cell_type": "code",
   "execution_count": 8,
   "metadata": {
    "colab": {
     "base_uri": "https://localhost:8080/"
    },
    "id": "c-VtTvkYvBUM",
    "outputId": "91873374-3d7c-4a1d-8633-e4ca19d51cc4"
   },
   "outputs": [
    {
     "name": "stdout",
     "output_type": "stream",
     "text": [
      "-3305805.599999994\n",
      "5686551.440000016\n"
     ]
    }
   ],
   "source": [
    "revenue_lost_attrition_2016 = revenue_2016 - revenue_2015\n",
    "revenue_lost_attrition_2017 = revenue_2017 - revenue_2016\n",
    "print(revenue_lost_attrition_2016)\n",
    "print(revenue_lost_attrition_2017)"
   ]
  },
  {
   "cell_type": "code",
   "execution_count": 9,
   "metadata": {
    "id": "gMp_1R7nTkdR"
   },
   "outputs": [],
   "source": [
    "existing_customer_revenue_2015 = year_df1_df2_common['net_revenue_x'].sum(axis=0)\n",
    "existing_customer_revenue_2016 = year_df1_df2_common['net_revenue_y'].sum(axis=0)\n"
   ]
  },
  {
   "cell_type": "code",
   "execution_count": 10,
   "metadata": {
    "id": "UAdVpd42V0kh"
   },
   "outputs": [],
   "source": [
    "existing_customer_revenue_2016 = year_df2_df3_common['net_revenue_x'].sum(axis=0)\n",
    "existing_customer_revenue_2017 = year_df2_df3_common['net_revenue_y'].sum(axis=0)"
   ]
  },
  {
   "cell_type": "code",
   "execution_count": 11,
   "metadata": {
    "id": "BpzN3HhqV7bV"
   },
   "outputs": [],
   "source": [
    "total_customers_2015 = df_1.size\n",
    "total_customers_2016 = df_2.size\n",
    "total_customers_2017 = df_3.size"
   ]
  },
  {
   "cell_type": "code",
   "execution_count": 12,
   "metadata": {
    "id": "d32VCXRx6iAB"
   },
   "outputs": [],
   "source": [
    "lost_customers_2016 = total_customers_2016 - total_customers_2015"
   ]
  },
  {
   "cell_type": "code",
   "execution_count": 13,
   "metadata": {
    "id": "JWiUCiYi7FvP"
   },
   "outputs": [],
   "source": [
    "gained_customers_2017 = total_customers_2017 - total_customers_2016"
   ]
  },
  {
   "cell_type": "code",
   "execution_count": 14,
   "metadata": {
    "colab": {
     "base_uri": "https://localhost:8080/"
    },
    "id": "gj8cE4w07UKL",
    "outputId": "b2291e34-6dd4-4f49-a1a7-933d0e627ebd"
   },
   "outputs": [
    {
     "data": {
      "text/plain": [
       "<bound method NDFrame.head of         Unnamed: 0         customer_email  net_revenue  year\n",
       "0                0   nhknapwsbx@gmail.com       249.92  2015\n",
       "1                1   joiuzbvcpn@gmail.com        87.61  2015\n",
       "2                2   ukkjctepxt@gmail.com       168.38  2015\n",
       "3                3   gykatilzrt@gmail.com        62.40  2015\n",
       "4                4   mmsgsrtxah@gmail.com        43.08  2015\n",
       "...            ...                    ...          ...   ...\n",
       "231289      231289   xtrpmgjbwp@gmail.com       216.89  2015\n",
       "231290      231290   peeorxpsbr@gmail.com        39.16  2015\n",
       "231291      231291   vanasezjpw@gmail.com       233.46  2015\n",
       "231292      231292   dnpremlztb@gmail.com       136.27  2015\n",
       "231293      231293   qsgswrpycl@gmail.com        60.24  2015\n",
       "\n",
       "[231294 rows x 4 columns]>"
      ]
     },
     "execution_count": 14,
     "metadata": {},
     "output_type": "execute_result"
    }
   ],
   "source": [
    "df_1.head"
   ]
  },
  {
   "cell_type": "code",
   "execution_count": null,
   "metadata": {
    "id": "QNKqeQ8IyTj7"
   },
   "outputs": [],
   "source": []
  }
 ],
 "metadata": {
  "colab": {
   "collapsed_sections": [],
   "name": "case_study",
   "provenance": []
  },
  "kernelspec": {
   "display_name": "Python 3 (ipykernel)",
   "language": "python",
   "name": "python3"
  },
  "language_info": {
   "codemirror_mode": {
    "name": "ipython",
    "version": 3
   },
   "file_extension": ".py",
   "mimetype": "text/x-python",
   "name": "python",
   "nbconvert_exporter": "python",
   "pygments_lexer": "ipython3",
   "version": "3.9.7"
  }
 },
 "nbformat": 4,
 "nbformat_minor": 1
}
